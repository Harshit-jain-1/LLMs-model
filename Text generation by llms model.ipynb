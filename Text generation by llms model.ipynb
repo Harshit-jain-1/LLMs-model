{
 "cells": [
  {
   "cell_type": "code",
   "execution_count": 1,
   "id": "c23c2c27-5acd-4cfd-82e7-7945bae1da2b",
   "metadata": {},
   "outputs": [],
   "source": [
    "from transformers import GPT2LMHeadModel, GPT2Tokenizer"
   ]
  },
  {
   "cell_type": "code",
   "execution_count": 2,
   "id": "a09976dd-ab3e-4692-857b-5d7fb74924ac",
   "metadata": {},
   "outputs": [],
   "source": [
    "import torch"
   ]
  },
  {
   "cell_type": "code",
   "execution_count": 3,
   "id": "2353bd9a-3600-4d48-87a2-ad21fcb4ffda",
   "metadata": {},
   "outputs": [
    {
     "name": "stderr",
     "output_type": "stream",
     "text": [
      "The attention mask is not set and cannot be inferred from input because pad token is same as eos token. As a consequence, you may observe unexpected behavior. Please pass your input's `attention_mask` to obtain reliable results.\n"
     ]
    },
    {
     "name": "stdout",
     "output_type": "stream",
     "text": [
      "QUEEN: So, let's end this one. We're going to start off by saying that the U.S. government has never had a real or imminent threat to its interests in the region. And we don't want to get into that question.\n",
      "\n",
      "AMY GOODMAN: Let's move on to a question about the Supreme Court. And I want to ask you, you know, what does that mean for the U.S. government?\n",
      "\n",
      "JUAN GONZÁLEZ: Well, I think it means that the U.S. government has a very limited ability to influence the way the court is set up. And, you know, for example, the U.S. Supreme Court can't really do anything that it does without a court of law. So, I think, you know, the court has a limited ability to decide the most important decisions, and, you know, we have a very limited ability to influence the way this court is set up.\n",
      "\n",
      "But, you know, what I would have to say about the Supreme Court is that it has a limited capacity to change the way the court is set up, and, you know, I think that there's a lot of work that we need to do. We need to ask ourselves what kind of court we want to have. And that's a question that we need to ask ourselves. And, you know, the most important question is: What is the extent to which the U.S. government is able to influence the court?\n",
      "\n",
      "And, you know, the justices have a limited capacity to decide about almost any issue in the United States, and I think we've seen that with the court. And we've seen that with the Supreme Court. And we've seen that with the courts. And, you know, we've been trying to figure out what kind of court the government has, and, you know, we've been trying to figure out what kind of court the government has. And, you know, you know, I think that the United States has a very limited ability to influence the court.\n",
      "\n",
      "AMY GOODMAN: The latest, you know, recent Supreme Court case, Citizens United v. Federal Election Commission, is in a case that's just been decided, which is the first of its kind, in the United States. And, you know, it's a case that's been decided by a majority of the 4th Circuit.\n",
      "\n",
      "JUAN GONZÁLEZ: It's a case that's been decided by a majority of the 4th Circuit. And, you know, it's a case that's been decided by a majority of the 3rd Circuit. So, this is the first case that's been decided by a majority of the 3rd Circuit. And, you know, it's a case that's been decided by a majority of the 4th Circuit. So, this is the first case that's been decided by a majority of the 3rd Circuit.\n",
      "\n",
      "AMY GOODMAN: And, you know, that's the case that was decided by a majority of the 3rd Circuit.\n",
      "\n",
      "JUAN GONZÁLEZ: Yeah.\n",
      "\n",
      "AMY GOODMAN: And, you know, it's a case that's been decided by a majority of the 3rd Circuit.\n",
      "\n",
      "JUAN GONZÁLEZ: Yeah. And, you know, the majority of the 3rd Circuit is in the United States. And, you know, we've seen this case before. The Supreme Court has said that, you know, the Supreme Court has not heard a case before it that is in a majority of the 3rd Circuit, and, you know, this is the first case that's been decided by a majority of the 3rd Circuit. And, you know, the court has ruled on this case before it, and, you know, the court has ruled on this case before it. And, you know, this is the first case that's been decided by a majority of the 3rd Circuit.\n",
      "\n",
      "AMY GOODMAN: So, I want to ask you, you know, this is the first case that's been decided by a majority of the 3rd Circuit. And, you know, it's the first case that's been decided by a majority of the 3rd Circuit.\n",
      "\n",
      "JUAN GONZÁLEZ: Yeah.\n",
      "\n",
      "AMY GOODMAN: And, you know, this is the first case that's been decided by a majority of the 3rd Circuit. And, you know, we've seen this case before. The Supreme Court has said that, you know, the Supreme Court has not heard a case before it that is in a majority of the 3rd Circuit, and, you know, this is the first case that's been decided by a majority of the 3rd Circuit. And, you know, the court has ruled\n"
     ]
    }
   ],
   "source": [
    "# Load pre-trained GPT-2 model and tokenizer\n",
    "model = GPT2LMHeadModel.from_pretrained(\"gpt2\")\n",
    "tokenizer = GPT2Tokenizer.from_pretrained(\"gpt2\")\n",
    "\n",
    "# Set the model to evaluation mode\n",
    "model.eval()\n",
    "\n",
    "def generate_text(model, tokenizer, start_string, temperature=0.7, num_generate=1000):\n",
    "    # Encode the start string to tokens\n",
    "    input_ids = tokenizer.encode(start_string, return_tensors=\"pt\")\n",
    "    \n",
    "    # Generate text using the model\n",
    "    with torch.no_grad():\n",
    "        output = model.generate(\n",
    "            input_ids=input_ids,\n",
    "            max_length=num_generate + len(input_ids[0]),\n",
    "            temperature=temperature,\n",
    "            top_k=50,  # Optional, you can modify this as well for sampling diversity\n",
    "            top_p=0.95,  # Optional, you can modify this as well for sampling diversity\n",
    "            do_sample=True,  # Sampling instead of greedy decoding\n",
    "            pad_token_id=tokenizer.eos_token_id\n",
    "        )\n",
    "    \n",
    "    # Decode the generated output\n",
    "    generated_text = tokenizer.decode(output[0], skip_special_tokens=True)\n",
    "    \n",
    "    return generated_text\n",
    "\n",
    "# Example usage\n",
    "start_string = \"QUEEN: So, let's end this\"\n",
    "generated_text = generate_text(model, tokenizer, start_string=start_string, temperature=0.7, num_generate=1000)\n",
    "\n",
    "print(generated_text)"
   ]
  }
 ],
 "metadata": {
  "kernelspec": {
   "display_name": "Python [conda env:base] *",
   "language": "python",
   "name": "conda-base-py"
  },
  "language_info": {
   "codemirror_mode": {
    "name": "ipython",
    "version": 3
   },
   "file_extension": ".py",
   "mimetype": "text/x-python",
   "name": "python",
   "nbconvert_exporter": "python",
   "pygments_lexer": "ipython3",
   "version": "3.12.7"
  }
 },
 "nbformat": 4,
 "nbformat_minor": 5
}
