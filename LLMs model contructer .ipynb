{
 "cells": [
  {
   "cell_type": "code",
   "execution_count": 1,
   "id": "fe254362-203d-4ff8-be50-d2f23379b6d5",
   "metadata": {},
   "outputs": [],
   "source": [
    "import torch\n",
    "import torch.nn as nn\n",
    "import torch.optim as optim\n",
    "import math\n",
    "\n",
    "def tokenize(text, vocab):\n",
    "    return [vocab.get(word, vocab[\"<UNK>\"]) for word in text.split()]"
   ]
  },
  {
   "cell_type": "code",
   "execution_count": 3,
   "id": "1193e6f8-a2a1-4357-9f9e-5cfe74345034",
   "metadata": {},
   "outputs": [],
   "source": [
    "# Embedding Layer transforms these numbers into vectors (lists of numbers)\n",
    "class Embedding(nn.Module):\n",
    "    def __init__(self, vocab_size, embedding_dim):\n",
    "        super(Embedding, self).__init__()\n",
    "        self.embedding = nn.Embedding(vocab_size, embedding_dim)\n",
    "\n",
    "    def forward(self, x):\n",
    "        return self.embedding(x)"
   ]
  },
  {
   "cell_type": "code",
   "execution_count": 27,
   "id": "48adab26-969c-48d6-9d67-cc18ccf2cc29",
   "metadata": {},
   "outputs": [],
   "source": [
    "#Positional Encoding fixes this by adding a unique “position signal” to each word\n",
    "class PositionalEncoding(nn.Module):\n",
    "    def __init__(self, embedding_dim, max_seq_len=5000):\n",
    "        super(PositionalEncoding, self).__init__()\n",
    "        self.embedding_dim = embedding_dim\n",
    "        pe = torch.zeros(max_seq_len, embedding_dim)\n",
    "        position = torch.arange(0, max_seq_len, dtype=torch.float).unsqueeze(1)\n",
    "        div_term = torch.exp(torch.arange(0, embedding_dim, 2).float() * (-math.log(10000.0) / embedding_dim))\n",
    "        pe[:, 0::2] = torch.sin(position * div_term)\n",
    "        pe[:, 1::2] = torch.cos(position * div_term)\n",
    "        pe = pe.unsqueeze(0).transpose(0, 1)\n",
    "        self.register_buffer('pe', pe)\n",
    "\n",
    "    def forward(self, x):\n",
    "        return x + self.pe[:x.size(0), :]"
   ]
  },
  {
   "cell_type": "code",
   "execution_count": 29,
   "id": "b60c142a-b411-4f22-9149-784cfe5f6b9f",
   "metadata": {},
   "outputs": [],
   "source": [
    "# Self-Attention helps the model focus on important words\n",
    "class SelfAttention(nn.Module):\n",
    "    def __init__(self, embedding_dim):\n",
    "        super(SelfAttention, self).__init__()\n",
    "        self.query = nn.Linear(embedding_dim, embedding_dim)\n",
    "        self.key = nn.Linear(embedding_dim, embedding_dim)\n",
    "        self.value = nn.Linear(embedding_dim, embedding_dim)\n",
    "\n",
    "    def forward(self, x):\n",
    "        queries = self.query(x)\n",
    "        keys = self.key(x)\n",
    "        values = self.value(x)\n",
    "        scores = torch.bmm(queries, keys.transpose(1, 2)) / torch.sqrt(torch.tensor(x.size(-1), dtype=torch.float32))\n",
    "        attention_weights = torch.softmax(scores, dim=-1)\n",
    "        attended_values = torch.bmm(attention_weights, values)\n",
    "        return attended_values"
   ]
  },
  {
   "cell_type": "code",
   "execution_count": 31,
   "id": "06ff290f-8db7-482b-88c9-cb18269797c9",
   "metadata": {},
   "outputs": [],
   "source": [
    "# Transformer blocks combine attention with deeper processing\n",
    "class TransformerBlock(nn.Module):\n",
    "    def __init__(self, embedding_dim, hidden_dim):\n",
    "        super(TransformerBlock, self).__init__()\n",
    "        self.attention = SelfAttention(embedding_dim)\n",
    "        self.feed_forward = nn.Sequential(\n",
    "            nn.Linear(embedding_dim, hidden_dim),\n",
    "            nn.ReLU(),\n",
    "            nn.Linear(hidden_dim, embedding_dim)\n",
    "        )\n",
    "        self.norm1 = nn.LayerNorm(embedding_dim)\n",
    "        self.norm2 = nn.LayerNorm(embedding_dim)\n",
    "\n",
    "    def forward(self, x):\n",
    "        attended = self.attention(x)\n",
    "        x = self.norm1(x + attended)\n",
    "        forwarded = self.feed_forward(x)\n",
    "        x = self.norm2(x + forwarded)\n",
    "        return x"
   ]
  },
  {
   "cell_type": "code",
   "execution_count": 11,
   "id": "505a3634-e4bc-4bf4-b083-fb84e54ff43a",
   "metadata": {},
   "outputs": [],
   "source": [
    "# Full Language Model\n",
    "class SimpleLLM(nn.Module):\n",
    "    def __init__(self, vocab_size, embedding_dim, hidden_dim, num_layers):\n",
    "        super(SimpleLLM, self).__init__()\n",
    "        self.embedding = Embedding(vocab_size, embedding_dim)\n",
    "        self.positional_encoding = PositionalEncoding(embedding_dim)\n",
    "        self.transformer_blocks = nn.Sequential(*[TransformerBlock(embedding_dim, hidden_dim) for _ in range(num_layers)])\n",
    "        self.output = nn.Linear(embedding_dim, vocab_size)\n",
    "\n",
    "    def forward(self, x):\n",
    "        x = self.embedding(x)\n",
    "        x = x.transpose(0, 1) # Transpose for positional encoding\n",
    "        x = self.positional_encoding(x)\n",
    "        x = x.transpose(0, 1) # Transpose back\n",
    "        x = self.transformer_blocks(x)\n",
    "        x = self.output(x)\n",
    "        return x"
   ]
  },
  {
   "cell_type": "code",
   "execution_count": 23,
   "id": "b2ac5ceb-5dc4-4bb3-b5d2-9e900386af42",
   "metadata": {},
   "outputs": [
    {
     "name": "stdout",
     "output_type": "stream",
     "text": [
      "Epoch 0, Loss: 2.5224971771240234\n",
      "Epoch 10, Loss: 0.5894741415977478\n",
      "Epoch 20, Loss: 0.21021462976932526\n",
      "Epoch 30, Loss: 0.11703645437955856\n",
      "Epoch 40, Loss: 0.07734755426645279\n",
      "Epoch 50, Loss: 0.05508100241422653\n",
      "Epoch 60, Loss: 0.04102529585361481\n",
      "Epoch 70, Loss: 0.03161435201764107\n",
      "Epoch 80, Loss: 0.02503085322678089\n",
      "Epoch 90, Loss: 0.020262977108359337\n"
     ]
    }
   ],
   "source": [
    "# Training the Model\n",
    "vocab = {\"hello\": 0, \"jack\": 1, \"how\": 2, \"are\": 3, \"you\": 4, \"where\": 6, \"<UNK>\": 5}\n",
    "vocab_size = len(vocab)\n",
    "embedding_dim = 16\n",
    "hidden_dim = 32\n",
    "num_layers = 2\n",
    "\n",
    "model = SimpleLLM(vocab_size, embedding_dim, hidden_dim, num_layers)\n",
    "criterion = nn.CrossEntropyLoss()\n",
    "optimizer = optim.Adam(model.parameters(), lr=0.001)\n",
    "\n",
    "data = [\"hello jack how are you\", \"how are you hello jack\"]\n",
    "tokenized_data = [tokenize(sentence, vocab) for sentence in data]\n",
    "\n",
    "for epoch in range(100):\n",
    "    for sentence in tokenized_data:\n",
    "        for i in range(1, len(sentence)):\n",
    "            input_seq = torch.tensor(sentence[:i]).unsqueeze(0)\n",
    "            target = torch.tensor(sentence[i]).unsqueeze(0)\n",
    "            optimizer.zero_grad()\n",
    "            output = model(input_seq)\n",
    "            loss = criterion(output[:, -1, :], target)\n",
    "            loss.backward()\n",
    "            optimizer.step()\n",
    "    if epoch % 10 == 0:\n",
    "        print(f\"Epoch {epoch}, Loss: {loss.item()}\")"
   ]
  },
  {
   "cell_type": "code",
   "execution_count": 24,
   "id": "9cf12812-a973-42a1-a6c6-34105a9fdd5a",
   "metadata": {},
   "outputs": [
    {
     "name": "stdout",
     "output_type": "stream",
     "text": [
      "Input: hello jack where, Predicted: how\n"
     ]
    }
   ],
   "source": [
    "# Using the Model\n",
    "input_text = \"hello jack where\"\n",
    "input_tokens = tokenize(input_text, vocab)\n",
    "input_tensor = torch.tensor(input_tokens).unsqueeze(0)\n",
    "output = model(input_tensor)\n",
    "predicted_token = torch.argmax(output[:, -1, :]).item()\n",
    "print(f\"Input: {input_text}, Predicted: {list(vocab.keys())[list(vocab.values()).index(predicted_token)]}\")"
   ]
  }
 ],
 "metadata": {
  "kernelspec": {
   "display_name": "Python [conda env:base] *",
   "language": "python",
   "name": "conda-base-py"
  },
  "language_info": {
   "codemirror_mode": {
    "name": "ipython",
    "version": 3
   },
   "file_extension": ".py",
   "mimetype": "text/x-python",
   "name": "python",
   "nbconvert_exporter": "python",
   "pygments_lexer": "ipython3",
   "version": "3.12.7"
  }
 },
 "nbformat": 4,
 "nbformat_minor": 5
}
